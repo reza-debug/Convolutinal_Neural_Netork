{
  "nbformat": 4,
  "nbformat_minor": 0,
  "metadata": {
    "colab": {
      "provenance": [],
      "gpuType": "T4",
      "authorship_tag": "ABX9TyONSqVk9y2j9LzLkCppu0Bt",
      "include_colab_link": true
    },
    "kernelspec": {
      "name": "python3",
      "display_name": "Python 3"
    },
    "language_info": {
      "name": "python"
    },
    "accelerator": "GPU"
  },
  "cells": [
    {
      "cell_type": "markdown",
      "metadata": {
        "id": "view-in-github",
        "colab_type": "text"
      },
      "source": [
        "<a href=\"https://colab.research.google.com/github/reza-debug/Convolutinal_Neural_Netork/blob/main/Conv2D_padding_stride.ipynb\" target=\"_parent\"><img src=\"https://colab.research.google.com/assets/colab-badge.svg\" alt=\"Open In Colab\"/></a>"
      ]
    },
    {
      "cell_type": "markdown",
      "source": [
        "# Load Data 📢"
      ],
      "metadata": {
        "id": "SbG12EDc1GXx"
      }
    },
    {
      "cell_type": "code",
      "execution_count": null,
      "metadata": {
        "id": "xBRgT99SzSC8"
      },
      "outputs": [],
      "source": [
        "import tensorflow as tf\n",
        "from tensorflow import keras\n",
        "from keras.datasets import mnist"
      ]
    },
    {
      "cell_type": "code",
      "source": [
        "(x_train,y_train) , (x_test,y_test) = mnist.load_data()"
      ],
      "metadata": {
        "id": "hvq1GfclzvJE"
      },
      "execution_count": null,
      "outputs": []
    },
    {
      "cell_type": "code",
      "source": [
        "x_train.shape"
      ],
      "metadata": {
        "colab": {
          "base_uri": "https://localhost:8080/"
        },
        "id": "7jLSnKqf1AS8",
        "outputId": "142e88ae-8458-4865-f36f-09284e689cf5"
      },
      "execution_count": null,
      "outputs": [
        {
          "output_type": "execute_result",
          "data": {
            "text/plain": [
              "(60000, 28, 28)"
            ]
          },
          "metadata": {},
          "execution_count": 49
        }
      ]
    },
    {
      "cell_type": "markdown",
      "source": [
        "# Preprocessing 🥨"
      ],
      "metadata": {
        "id": "xIEc3Cxb1NHO"
      }
    },
    {
      "cell_type": "code",
      "source": [
        "x_train = x_train.reshape((-1,28,28,1)).astype('float') / 255\n",
        "x_test = x_test.reshape((-1,28,28,1)).astype('float') / 255"
      ],
      "metadata": {
        "id": "-gk1Nk-B1EEU"
      },
      "execution_count": null,
      "outputs": []
    },
    {
      "cell_type": "code",
      "source": [
        "x_train.shape"
      ],
      "metadata": {
        "colab": {
          "base_uri": "https://localhost:8080/"
        },
        "id": "tg6OtMo-1xQ0",
        "outputId": "e96a09fa-7888-43fb-95a0-04cdd351093d"
      },
      "execution_count": null,
      "outputs": [
        {
          "output_type": "execute_result",
          "data": {
            "text/plain": [
              "(60000, 28, 28, 1)"
            ]
          },
          "metadata": {},
          "execution_count": 51
        }
      ]
    },
    {
      "cell_type": "markdown",
      "source": [
        "# Model definition 🐶"
      ],
      "metadata": {
        "id": "19FjScaY1_XN"
      }
    },
    {
      "cell_type": "code",
      "source": [
        "model = keras.Sequential()\n",
        "#conv2D layer\n",
        "#32 number of filters\n",
        "#3*3 kernel\n",
        "#stride 1 column 1 row\n",
        "#no padding\n",
        "model.add(keras.layers.Conv2D(32, kernel_size=(3,3), strides=(1,1), padding='valid', activation='relu', input_shape=(28,28,1) ))\n",
        "#Flaten layer for fully conected norun layers\n",
        "model.add(keras.layers.Flatten())\n",
        "#hidden layers\n",
        "model.add(keras.layers.Dense(units=128,activation='relu'))\n",
        "#output layer\n",
        "model.add(keras.layers.Dense(units=10,activation='softmax'))\n",
        "\n",
        "#compile\n",
        "model.compile( optimizer = tf.optimizers.Adam() , loss = tf.losses.sparse_categorical_crossentropy , metrics=['accuracy'] )\n",
        "\n"
      ],
      "metadata": {
        "id": "wsQkzU8D17bR"
      },
      "execution_count": null,
      "outputs": []
    },
    {
      "cell_type": "code",
      "source": [
        "model.summary()"
      ],
      "metadata": {
        "id": "tlHohPIT7oBN",
        "colab": {
          "base_uri": "https://localhost:8080/"
        },
        "outputId": "1c2efe6e-756e-46f0-d930-b34852000b52"
      },
      "execution_count": null,
      "outputs": [
        {
          "output_type": "stream",
          "name": "stdout",
          "text": [
            "Model: \"sequential_11\"\n",
            "_________________________________________________________________\n",
            " Layer (type)                Output Shape              Param #   \n",
            "=================================================================\n",
            " conv2d_11 (Conv2D)          (None, 26, 26, 32)        320       \n",
            "                                                                 \n",
            " flatten_10 (Flatten)        (None, 21632)             0         \n",
            "                                                                 \n",
            " dense_17 (Dense)            (None, 128)               2769024   \n",
            "                                                                 \n",
            " dense_18 (Dense)            (None, 10)                1290      \n",
            "                                                                 \n",
            "=================================================================\n",
            "Total params: 2770634 (10.57 MB)\n",
            "Trainable params: 2770634 (10.57 MB)\n",
            "Non-trainable params: 0 (0.00 Byte)\n",
            "_________________________________________________________________\n"
          ]
        }
      ]
    },
    {
      "cell_type": "code",
      "source": [
        "hist = model.fit(x_train,y_train, epochs=10 , batch_size=256 , validation_data=(x_test,y_test) )"
      ],
      "metadata": {
        "colab": {
          "base_uri": "https://localhost:8080/"
        },
        "id": "_aCLai8R8DCc",
        "outputId": "6f4f92ec-57df-41af-9549-5ed29a4bcbdb"
      },
      "execution_count": null,
      "outputs": [
        {
          "output_type": "stream",
          "name": "stdout",
          "text": [
            "Epoch 1/10\n",
            "235/235 [==============================] - 50s 208ms/step - loss: 0.2225 - accuracy: 0.9367 - val_loss: 0.0909 - val_accuracy: 0.9719\n",
            "Epoch 2/10\n",
            "235/235 [==============================] - 47s 199ms/step - loss: 0.0616 - accuracy: 0.9820 - val_loss: 0.0589 - val_accuracy: 0.9804\n",
            "Epoch 3/10\n",
            "235/235 [==============================] - 49s 209ms/step - loss: 0.0390 - accuracy: 0.9883 - val_loss: 0.0547 - val_accuracy: 0.9820\n",
            "Epoch 4/10\n",
            "235/235 [==============================] - 49s 207ms/step - loss: 0.0240 - accuracy: 0.9931 - val_loss: 0.0541 - val_accuracy: 0.9834\n",
            "Epoch 5/10\n",
            "235/235 [==============================] - 50s 215ms/step - loss: 0.0166 - accuracy: 0.9953 - val_loss: 0.0471 - val_accuracy: 0.9840\n",
            "Epoch 6/10\n",
            "235/235 [==============================] - 49s 209ms/step - loss: 0.0106 - accuracy: 0.9973 - val_loss: 0.0504 - val_accuracy: 0.9848\n",
            "Epoch 7/10\n",
            "235/235 [==============================] - 48s 204ms/step - loss: 0.0066 - accuracy: 0.9985 - val_loss: 0.0495 - val_accuracy: 0.9851\n",
            "Epoch 8/10\n",
            "235/235 [==============================] - 49s 209ms/step - loss: 0.0038 - accuracy: 0.9993 - val_loss: 0.0565 - val_accuracy: 0.9840\n",
            "Epoch 9/10\n",
            "235/235 [==============================] - 49s 209ms/step - loss: 0.0027 - accuracy: 0.9996 - val_loss: 0.0564 - val_accuracy: 0.9856\n",
            "Epoch 10/10\n",
            "235/235 [==============================] - 47s 201ms/step - loss: 0.0016 - accuracy: 0.9998 - val_loss: 0.0643 - val_accuracy: 0.9842\n"
          ]
        }
      ]
    },
    {
      "cell_type": "code",
      "source": [
        "import matplotlib.pyplot as plt\n",
        "\n",
        "# دسترسی به معیارهای عملکرد آموزش و اعتبارسنجی\n",
        "accuracy = hist.history['accuracy']\n",
        "val_accuracy = hist.history['val_accuracy']\n",
        "\n",
        "# دسترسی به تعداد دوره‌ها\n",
        "epochs = range(1, len(accuracy) + 1)\n",
        "\n",
        "# رسم نمودار دقت آموزش و اعتبارسنجی\n",
        "plt.plot(epochs, accuracy, 'bo', label='Train Accuracy')\n",
        "plt.plot(epochs, val_accuracy, 'b', label='Test Accuracy')\n",
        "plt.title('Accuracy')\n",
        "plt.xlabel('epochs')\n",
        "plt.ylabel('acc')\n",
        "plt.legend()\n",
        "plt.show()"
      ],
      "metadata": {
        "id": "ATVTEAzR8a0_",
        "colab": {
          "base_uri": "https://localhost:8080/",
          "height": 472
        },
        "outputId": "6f5a7a51-3279-4109-8af4-e49313ae9278"
      },
      "execution_count": 60,
      "outputs": [
        {
          "output_type": "display_data",
          "data": {
            "text/plain": [
              "<Figure size 640x480 with 1 Axes>"
            ],
            "image/png": "[encoded data removed]"
          },
          "metadata": {}
        }
      ]
    },
    {
      "cell_type": "code",
      "source": [],
      "metadata": {
        "id": "3gxsJi4SSxLr"
      },
      "execution_count": null,
      "outputs": []
    }
  ]
}