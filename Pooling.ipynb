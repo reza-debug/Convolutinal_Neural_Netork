{
  "nbformat": 4,
  "nbformat_minor": 0,
  "metadata": {
    "colab": {
      "provenance": [],
      "gpuType": "T4",
      "authorship_tag": "ABX9TyNBuFBG/z8aHFwk6M6Ihebd",
      "include_colab_link": true
    },
    "kernelspec": {
      "name": "python3",
      "display_name": "Python 3"
    },
    "language_info": {
      "name": "python"
    },
    "accelerator": "GPU"
  },
  "cells": [
    {
      "cell_type": "markdown",
      "metadata": {
        "id": "view-in-github",
        "colab_type": "text"
      },
      "source": [
        "<a href=\"https://colab.research.google.com/github/reza-debug/Convolutinal_Neural_Netork/blob/main/Pooling.ipynb\" target=\"_parent\"><img src=\"https://colab.research.google.com/assets/colab-badge.svg\" alt=\"Open In Colab\"/></a>"
      ]
    },
    {
      "cell_type": "markdown",
      "source": [
        "# Load Data 📢"
      ],
      "metadata": {
        "id": "SbG12EDc1GXx"
      }
    },
    {
      "cell_type": "code",
      "execution_count": 8,
      "metadata": {
        "id": "xBRgT99SzSC8"
      },
      "outputs": [],
      "source": [
        "import tensorflow as tf\n",
        "from tensorflow import keras\n",
        "from keras.datasets import mnist"
      ]
    },
    {
      "cell_type": "code",
      "source": [
        "(x_train,y_train) , (x_test,y_test) = mnist.load_data()"
      ],
      "metadata": {
        "id": "hvq1GfclzvJE"
      },
      "execution_count": 9,
      "outputs": []
    },
    {
      "cell_type": "code",
      "source": [
        "x_train.shape"
      ],
      "metadata": {
        "colab": {
          "base_uri": "https://localhost:8080/"
        },
        "id": "7jLSnKqf1AS8",
        "outputId": "7fdf7e38-9a7a-4eef-9361-5cf6af1cb474"
      },
      "execution_count": 10,
      "outputs": [
        {
          "output_type": "execute_result",
          "data": {
            "text/plain": [
              "(60000, 28, 28)"
            ]
          },
          "metadata": {},
          "execution_count": 10
        }
      ]
    },
    {
      "cell_type": "markdown",
      "source": [
        "# Preprocessing 🥨"
      ],
      "metadata": {
        "id": "xIEc3Cxb1NHO"
      }
    },
    {
      "cell_type": "code",
      "source": [
        "x_train = x_train.reshape((-1,28,28,1)).astype('float') / 255\n",
        "x_test = x_test.reshape((-1,28,28,1)).astype('float') / 255"
      ],
      "metadata": {
        "id": "-gk1Nk-B1EEU"
      },
      "execution_count": 11,
      "outputs": []
    },
    {
      "cell_type": "code",
      "source": [
        "x_train.shape"
      ],
      "metadata": {
        "colab": {
          "base_uri": "https://localhost:8080/"
        },
        "id": "tg6OtMo-1xQ0",
        "outputId": "d8fb892e-f3ab-4825-d944-098b30056d50"
      },
      "execution_count": 12,
      "outputs": [
        {
          "output_type": "execute_result",
          "data": {
            "text/plain": [
              "(60000, 28, 28, 1)"
            ]
          },
          "metadata": {},
          "execution_count": 12
        }
      ]
    },
    {
      "cell_type": "markdown",
      "source": [
        "# Model definition 🐶"
      ],
      "metadata": {
        "id": "19FjScaY1_XN"
      }
    },
    {
      "cell_type": "code",
      "source": [
        "model = keras.Sequential()\n",
        "model.add(keras.layers.Conv2D(32, kernel_size=(3,3), strides=(1,1), padding='valid', activation='relu', input_shape=(28,28,1)))\n",
        "#add Max pooling\n",
        "model.add(keras.layers.MaxPool2D(pool_size=(2,2)))\n",
        "model.add(keras.layers.Conv2D(32, kernel_size=(3,3), strides=(1,1), padding='valid', activation='relu'))\n",
        "#add Average pooling\n",
        "model.add(keras.layers.AveragePooling2D(pool_size=(2,2)))\n",
        "#faltting\n",
        "model.add(keras.layers.Flatten())\n",
        "#hidden layers\n",
        "model.add(keras.layers.Dense(units=128,activation='relu'))\n",
        "#output layer\n",
        "model.add(keras.layers.Dense(units=10,activation='softmax'))\n",
        "#compile\n",
        "model.compile( optimizer = tf.optimizers.Adam() , loss = tf.losses.sparse_categorical_crossentropy , metrics=['accuracy'] )\n"
      ],
      "metadata": {
        "id": "S-BULGn7mXQL"
      },
      "execution_count": 18,
      "outputs": []
    },
    {
      "cell_type": "code",
      "source": [
        "model.summary()"
      ],
      "metadata": {
        "colab": {
          "base_uri": "https://localhost:8080/"
        },
        "id": "T_iAw0EK7dW-",
        "outputId": "4d382090-fa39-4798-9684-722e2c301e9c"
      },
      "execution_count": 19,
      "outputs": [
        {
          "output_type": "stream",
          "name": "stdout",
          "text": [
            "Model: \"sequential_4\"\n",
            "_________________________________________________________________\n",
            " Layer (type)                Output Shape              Param #   \n",
            "=================================================================\n",
            " conv2d_4 (Conv2D)           (None, 26, 26, 32)        320       \n",
            "                                                                 \n",
            " max_pooling2d_2 (MaxPoolin  (None, 13, 13, 32)        0         \n",
            " g2D)                                                            \n",
            "                                                                 \n",
            " conv2d_5 (Conv2D)           (None, 11, 11, 32)        9248      \n",
            "                                                                 \n",
            " average_pooling2d_2 (Avera  (None, 5, 5, 32)          0         \n",
            " gePooling2D)                                                    \n",
            "                                                                 \n",
            " flatten_2 (Flatten)         (None, 800)               0         \n",
            "                                                                 \n",
            " dense_4 (Dense)             (None, 128)               102528    \n",
            "                                                                 \n",
            " dense_5 (Dense)             (None, 10)                1290      \n",
            "                                                                 \n",
            "=================================================================\n",
            "Total params: 113386 (442.91 KB)\n",
            "Trainable params: 113386 (442.91 KB)\n",
            "Non-trainable params: 0 (0.00 Byte)\n",
            "_________________________________________________________________\n"
          ]
        }
      ]
    },
    {
      "cell_type": "code",
      "source": [
        "\n",
        "hist = model.fit(x_train,y_train, epochs=10 , batch_size=256 , validation_data=(x_test,y_test) )"
      ],
      "metadata": {
        "colab": {
          "base_uri": "https://localhost:8080/"
        },
        "id": "JEnr1C9R996b",
        "outputId": "6ced7fba-a144-48a1-b5d9-6d47eb8cf0e8"
      },
      "execution_count": 20,
      "outputs": [
        {
          "output_type": "stream",
          "name": "stdout",
          "text": [
            "Epoch 1/10\n",
            "235/235 [==============================] - 6s 8ms/step - loss: 0.3821 - accuracy: 0.8928 - val_loss: 0.1173 - val_accuracy: 0.9650\n",
            "Epoch 2/10\n",
            "235/235 [==============================] - 1s 5ms/step - loss: 0.0951 - accuracy: 0.9717 - val_loss: 0.0703 - val_accuracy: 0.9791\n",
            "Epoch 3/10\n",
            "235/235 [==============================] - 1s 5ms/step - loss: 0.0665 - accuracy: 0.9795 - val_loss: 0.0544 - val_accuracy: 0.9821\n",
            "Epoch 4/10\n",
            "235/235 [==============================] - 1s 5ms/step - loss: 0.0535 - accuracy: 0.9836 - val_loss: 0.0432 - val_accuracy: 0.9868\n",
            "Epoch 5/10\n",
            "235/235 [==============================] - 2s 6ms/step - loss: 0.0440 - accuracy: 0.9861 - val_loss: 0.0420 - val_accuracy: 0.9861\n",
            "Epoch 6/10\n",
            "235/235 [==============================] - 1s 5ms/step - loss: 0.0382 - accuracy: 0.9880 - val_loss: 0.0340 - val_accuracy: 0.9885\n",
            "Epoch 7/10\n",
            "235/235 [==============================] - 1s 5ms/step - loss: 0.0337 - accuracy: 0.9897 - val_loss: 0.0321 - val_accuracy: 0.9890\n",
            "Epoch 8/10\n",
            "235/235 [==============================] - 1s 5ms/step - loss: 0.0294 - accuracy: 0.9911 - val_loss: 0.0331 - val_accuracy: 0.9888\n",
            "Epoch 9/10\n",
            "235/235 [==============================] - 1s 5ms/step - loss: 0.0261 - accuracy: 0.9919 - val_loss: 0.0268 - val_accuracy: 0.9917\n",
            "Epoch 10/10\n",
            "235/235 [==============================] - 1s 5ms/step - loss: 0.0218 - accuracy: 0.9933 - val_loss: 0.0296 - val_accuracy: 0.9905\n"
          ]
        }
      ]
    },
    {
      "cell_type": "code",
      "source": [
        "import matplotlib.pyplot as plt\n",
        "\n",
        "# دسترسی به معیارهای عملکرد آموزش و اعتبارسنجی\n",
        "accuracy = hist.history['accuracy']\n",
        "val_accuracy = hist.history['val_accuracy']\n",
        "\n",
        "# دسترسی به تعداد دوره‌ها\n",
        "epochs = range(1, len(accuracy) + 1)\n",
        "\n",
        "# رسم نمودار دقت آموزش و اعتبارسنجی\n",
        "plt.plot(epochs, accuracy, 'bo', label='Train Accuracy')\n",
        "plt.plot(epochs, val_accuracy, 'b', label='Test Accuracy')\n",
        "plt.title('Accuracy')\n",
        "plt.xlabel('epochs')\n",
        "plt.ylabel('acc')\n",
        "plt.legend()\n",
        "plt.show()"
      ],
      "metadata": {
        "colab": {
          "base_uri": "https://localhost:8080/",
          "height": 472
        },
        "id": "mDhhm-n8-zTq",
        "outputId": "20dc0b24-53d8-424b-81b8-5ce3fb3b4c52"
      },
      "execution_count": 21,
      "outputs": [
        {
          "output_type": "display_data",
          "data": {
            "text/plain": [
              "<Figure size 640x480 with 1 Axes>"
            ],
            "image/png": "[encoded data removed]"
          },
          "metadata": {}
        }
      ]
    },
    {
      "cell_type": "code",
      "source": [],
      "metadata": {
        "id": "UFk8EoS9-8cH"
      },
      "execution_count": null,
      "outputs": []
    }
  ]
}