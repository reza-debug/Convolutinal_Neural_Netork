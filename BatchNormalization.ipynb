{
  "nbformat": 4,
  "nbformat_minor": 0,
  "metadata": {
    "colab": {
      "provenance": [],
      "gpuType": "T4",
      "authorship_tag": "ABX9TyN/Y1GRY8jqTWKlrAvgjrhd",
      "include_colab_link": true
    },
    "kernelspec": {
      "name": "python3",
      "display_name": "Python 3"
    },
    "language_info": {
      "name": "python"
    },
    "accelerator": "GPU"
  },
  "cells": [
    {
      "cell_type": "markdown",
      "metadata": {
        "id": "view-in-github",
        "colab_type": "text"
      },
      "source": [
        "<a href=\"https://colab.research.google.com/github/reza-debug/Convolutinal_Neural_Netork/blob/main/BatchNormalization.ipynb\" target=\"_parent\"><img src=\"https://colab.research.google.com/assets/colab-badge.svg\" alt=\"Open In Colab\"/></a>"
      ]
    },
    {
      "cell_type": "markdown",
      "source": [
        "# Load Data 📢"
      ],
      "metadata": {
        "id": "SbG12EDc1GXx"
      }
    },
    {
      "cell_type": "code",
      "execution_count": 1,
      "metadata": {
        "id": "xBRgT99SzSC8"
      },
      "outputs": [],
      "source": [
        "import tensorflow as tf\n",
        "from tensorflow import keras\n",
        "from keras.datasets import mnist"
      ]
    },
    {
      "cell_type": "code",
      "source": [
        "(x_train,y_train) , (x_test,y_test) = mnist.load_data()"
      ],
      "metadata": {
        "id": "hvq1GfclzvJE",
        "colab": {
          "base_uri": "https://localhost:8080/"
        },
        "outputId": "0dc0365f-746c-4119-c5ba-c973a8ede9b7"
      },
      "execution_count": 2,
      "outputs": [
        {
          "output_type": "stream",
          "name": "stdout",
          "text": [
            "Downloading data from https://storage.googleapis.com/tensorflow/tf-keras-datasets/mnist.npz\n",
            "11490434/11490434 [==============================] - 0s 0us/step\n"
          ]
        }
      ]
    },
    {
      "cell_type": "code",
      "source": [
        "x_train.shape"
      ],
      "metadata": {
        "colab": {
          "base_uri": "https://localhost:8080/"
        },
        "id": "7jLSnKqf1AS8",
        "outputId": "62a3cdbc-4af0-455c-810a-3b9bc816d656"
      },
      "execution_count": 3,
      "outputs": [
        {
          "output_type": "execute_result",
          "data": {
            "text/plain": [
              "(60000, 28, 28)"
            ]
          },
          "metadata": {},
          "execution_count": 3
        }
      ]
    },
    {
      "cell_type": "markdown",
      "source": [
        "# Preprocessing 🥨"
      ],
      "metadata": {
        "id": "xIEc3Cxb1NHO"
      }
    },
    {
      "cell_type": "code",
      "source": [
        "x_train = x_train.reshape((-1,28,28,1)).astype('float') / 255\n",
        "x_test = x_test.reshape((-1,28,28,1)).astype('float') / 255"
      ],
      "metadata": {
        "id": "-gk1Nk-B1EEU"
      },
      "execution_count": 4,
      "outputs": []
    },
    {
      "cell_type": "code",
      "source": [
        "x_train.shape"
      ],
      "metadata": {
        "colab": {
          "base_uri": "https://localhost:8080/"
        },
        "id": "tg6OtMo-1xQ0",
        "outputId": "9c0441d0-66fd-49eb-9319-2aed4faaacc5"
      },
      "execution_count": 5,
      "outputs": [
        {
          "output_type": "execute_result",
          "data": {
            "text/plain": [
              "(60000, 28, 28, 1)"
            ]
          },
          "metadata": {},
          "execution_count": 5
        }
      ]
    },
    {
      "cell_type": "markdown",
      "source": [
        "# Model definition 🦨"
      ],
      "metadata": {
        "id": "19FjScaY1_XN"
      }
    },
    {
      "cell_type": "code",
      "source": [
        "model = keras.Sequential()\n",
        "#for use Batch Normalizaton frist conv2d then BN and at the end activation\n",
        "model.add(keras.layers.Conv2D(32,(3,3), input_shape=(28,28,1) ))\n",
        "\n",
        "model.add(keras.layers.BatchNormalization())\n",
        "\n",
        "model.add(keras.layers.Activation('relu'))\n",
        "\n",
        "#for use Batch Normalizaton frist conv2d then BN and at the end activation\n",
        "model.add(keras.layers.Conv2D(32,(3,3) ))\n",
        "\n",
        "model.add(keras.layers.BatchNormalization())\n",
        "\n",
        "model.add(keras.layers.Activation('relu'))\n",
        "\n",
        "#add Average pooling\n",
        "model.add(keras.layers.AveragePooling2D(pool_size=(2,2)))\n",
        "#faltting\n",
        "model.add(keras.layers.Flatten())\n",
        "#hidden layers\n",
        "model.add(keras.layers.Dense(units=128,activation='relu'))\n",
        "#output layer\n",
        "model.add(keras.layers.Dense(units=10,activation='softmax'))\n",
        "#compile\n",
        "model.compile( optimizer = tf.optimizers.Adam() , loss = tf.losses.sparse_categorical_crossentropy , metrics=['accuracy'] )"
      ],
      "metadata": {
        "id": "E1bfvJlb-_21"
      },
      "execution_count": 13,
      "outputs": []
    },
    {
      "cell_type": "code",
      "source": [
        "model.summary()"
      ],
      "metadata": {
        "colab": {
          "base_uri": "https://localhost:8080/"
        },
        "id": "VG3QuHwyCUAF",
        "outputId": "74bcaaa4-c3b5-447f-9dfc-7863d68c9a8f"
      },
      "execution_count": 14,
      "outputs": [
        {
          "output_type": "stream",
          "name": "stdout",
          "text": [
            "Model: \"sequential_4\"\n",
            "_________________________________________________________________\n",
            " Layer (type)                Output Shape              Param #   \n",
            "=================================================================\n",
            " conv2d_6 (Conv2D)           (None, 26, 26, 32)        320       \n",
            "                                                                 \n",
            " batch_normalization_6 (Bat  (None, 26, 26, 32)        128       \n",
            " chNormalization)                                                \n",
            "                                                                 \n",
            " activation_5 (Activation)   (None, 26, 26, 32)        0         \n",
            "                                                                 \n",
            " conv2d_7 (Conv2D)           (None, 24, 24, 32)        9248      \n",
            "                                                                 \n",
            " batch_normalization_7 (Bat  (None, 24, 24, 32)        128       \n",
            " chNormalization)                                                \n",
            "                                                                 \n",
            " activation_6 (Activation)   (None, 24, 24, 32)        0         \n",
            "                                                                 \n",
            " average_pooling2d_2 (Avera  (None, 12, 12, 32)        0         \n",
            " gePooling2D)                                                    \n",
            "                                                                 \n",
            " flatten_2 (Flatten)         (None, 4608)              0         \n",
            "                                                                 \n",
            " dense_4 (Dense)             (None, 128)               589952    \n",
            "                                                                 \n",
            " dense_5 (Dense)             (None, 10)                1290      \n",
            "                                                                 \n",
            "=================================================================\n",
            "Total params: 601066 (2.29 MB)\n",
            "Trainable params: 600938 (2.29 MB)\n",
            "Non-trainable params: 128 (512.00 Byte)\n",
            "_________________________________________________________________\n"
          ]
        }
      ]
    },
    {
      "cell_type": "code",
      "source": [
        "hist = model.fit(x_train,y_train, epochs=10 , batch_size=256 , validation_data=(x_test,y_test) )"
      ],
      "metadata": {
        "colab": {
          "base_uri": "https://localhost:8080/"
        },
        "id": "TfyYdo-DGVGr",
        "outputId": "5eb10676-2a77-4477-cc5e-5bd48c3cfb13"
      },
      "execution_count": 15,
      "outputs": [
        {
          "output_type": "stream",
          "name": "stdout",
          "text": [
            "Epoch 1/10\n",
            "235/235 [==============================] - 9s 15ms/step - loss: 0.1790 - accuracy: 0.9454 - val_loss: 1.4132 - val_accuracy: 0.4701\n",
            "Epoch 2/10\n",
            "235/235 [==============================] - 3s 12ms/step - loss: 0.0513 - accuracy: 0.9845 - val_loss: 0.1313 - val_accuracy: 0.9584\n",
            "Epoch 3/10\n",
            "235/235 [==============================] - 3s 13ms/step - loss: 0.0351 - accuracy: 0.9893 - val_loss: 0.0455 - val_accuracy: 0.9855\n",
            "Epoch 4/10\n",
            "235/235 [==============================] - 3s 13ms/step - loss: 0.0269 - accuracy: 0.9918 - val_loss: 0.0476 - val_accuracy: 0.9850\n",
            "Epoch 5/10\n",
            "235/235 [==============================] - 3s 12ms/step - loss: 0.0183 - accuracy: 0.9940 - val_loss: 0.0423 - val_accuracy: 0.9876\n",
            "Epoch 6/10\n",
            "235/235 [==============================] - 3s 12ms/step - loss: 0.0145 - accuracy: 0.9954 - val_loss: 0.0406 - val_accuracy: 0.9865\n",
            "Epoch 7/10\n",
            "235/235 [==============================] - 3s 12ms/step - loss: 0.0133 - accuracy: 0.9959 - val_loss: 0.0344 - val_accuracy: 0.9891\n",
            "Epoch 8/10\n",
            "235/235 [==============================] - 3s 13ms/step - loss: 0.0092 - accuracy: 0.9970 - val_loss: 0.0516 - val_accuracy: 0.9865\n",
            "Epoch 9/10\n",
            "235/235 [==============================] - 3s 13ms/step - loss: 0.0077 - accuracy: 0.9977 - val_loss: 0.0410 - val_accuracy: 0.9882\n",
            "Epoch 10/10\n",
            "235/235 [==============================] - 3s 13ms/step - loss: 0.0075 - accuracy: 0.9976 - val_loss: 0.0426 - val_accuracy: 0.9869\n"
          ]
        }
      ]
    },
    {
      "cell_type": "code",
      "source": [
        "import matplotlib.pyplot as plt\n",
        "\n",
        "# دسترسی به معیارهای عملکرد آموزش و اعتبارسنجی\n",
        "accuracy = hist.history['accuracy']\n",
        "val_accuracy = hist.history['val_accuracy']\n",
        "\n",
        "# دسترسی به تعداد دوره‌ها\n",
        "epochs = range(1, len(accuracy) + 1)\n",
        "\n",
        "# رسم نمودار دقت آموزش و اعتبارسنجی\n",
        "plt.plot(epochs, accuracy, 'bo', label='Train Accuracy')\n",
        "plt.plot(epochs, val_accuracy, 'b', label='Test Accuracy')\n",
        "plt.title('Accuracy')\n",
        "plt.xlabel('epochs')\n",
        "plt.ylabel('acc')\n",
        "plt.legend()\n",
        "plt.show()"
      ],
      "metadata": {
        "id": "zAP_A1EWGkv8"
      },
      "execution_count": null,
      "outputs": []
    },
    {
      "cell_type": "code",
      "source": [],
      "metadata": {
        "id": "jhGXxIPNIiT3"
      },
      "execution_count": null,
      "outputs": []
    }
  ]
}